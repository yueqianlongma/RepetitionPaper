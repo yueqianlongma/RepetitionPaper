{
 "cells": [
  {
   "cell_type": "markdown",
   "metadata": {},
   "source": [
    "## 贝叶斯分类器\n",
    "**time: 2019/12/25**  \n",
    "**author: mjl** \n"
   ]
  },
  {
   "cell_type": "markdown",
   "metadata": {},
   "source": [
    "### 1.算法原理\n",
    "朴素贝叶斯方法是基于贝叶斯定理的一组有监督学习算法， 即“简单”地假设每对特征之间相互独立。\n",
    "给定一个类别y和$x_{1}$到$x_{n}$的相关的特征向量，贝叶斯定理阐述了以下关系:  \n",
    "![bys1.png](./img/bys1.png)  \n",
    "朴素贝叶斯法对条件概率分布作了条件独立性的假设。由于这是一个较强的假设，朴素贝叶斯法也由此得名。具体的，条件独立性假设是:  \n",
    "![bys2.png](./img/bys2.png)\n",
    "对于所有的$x_{i}$都成立，这个关系式可以简化为：  \n",
    "![bys3.png](./img/bys3.png)\n",
    "由于在给定的输入中$P(x_{1},...,x_{n})$是一个常量，我们使用下面的分类规则:  \n",
    "![bys4.png](./img/bys4.png)\n",
    "![bys5.png](./img/bys5.png)\n",
    "我们可以使用最大后验概率来估计$P(y)$和$P(x_{i}|y)$，前者是训练集中类别y的相对概率。"
   ]
  },
  {
   "cell_type": "markdown",
   "metadata": {},
   "source": [
    "## 2.高斯朴素贝叶斯分类器\n",
    "对于高斯朴素贝叶斯分类器，我们假设数据的特征分布为高斯分布， 即:  \n",
    "![bys6.png](./img/bys6.png)\n",
    "对于公式（4）我们使用对数函数处理， 便得到如下函数：\n",
    "![bys7.png](./img/bys7.png)\n",
    "通过公式（6）， 带入到上述公式得(下面的公式后面那个0.5是多余， 错误写上的)  \n",
    "![bys8.png](./img/bys8.png)\n",
    "![bys9.png](./img/bys9.png)\n",
    "对于高斯朴素贝叶斯分类器的实现就如同上面的公式推导情况一样。对于给定的训练集，我们计算出训练集中每个特征的mean和var，以及每个类别的出现概率。然后对于给定的测试集，我们对每个数据做公式（8）这样的运算， 然后通过公式（9）计算得到最大值，即为该数据所属的类别。"
   ]
  },
  {
   "cell_type": "markdown",
   "metadata": {},
   "source": [
    "## 3.导包"
   ]
  },
  {
   "cell_type": "code",
   "execution_count": 9,
   "metadata": {},
   "outputs": [],
   "source": [
    "import numpy as np\n",
    "from sklearn.model_selection import train_test_split\n",
    "from sklearn.naive_bayes import GaussianNB\n",
    "import tensorflow as tf\n",
    "import os\n",
    "\n",
    "os.environ['CUDA_VISIBLE_DEVICES'] = '2'\n",
    "config = tf.ConfigProto()\n",
    "\n",
    "config.gpu_options.allow_growth = True\n",
    "\n",
    "session = tf.Session(config=config)"
   ]
  },
  {
   "cell_type": "markdown",
   "metadata": {},
   "source": [
    "## 4.代码实现"
   ]
  },
  {
   "cell_type": "code",
   "execution_count": 23,
   "metadata": {
    "collapsed": true
   },
   "outputs": [],
   "source": [
    "class SGussianNB(object):\n",
    "    def __init__(self):\n",
    "        self.epsilon = 1e-9\n",
    "        pass\n",
    "\n",
    "    def fit(self, X, Y):\n",
    "        ## 样本总数量\n",
    "        counts = X.shape[0]\n",
    "        ## 将数据按照类别进行划分， 同一个类别的划分到一起\n",
    "        separate = [[x for x, y in zip(X, Y) if y == c] for c in np.unique(Y)]\n",
    "        ## 计算每个类别的概率 即使上面的P(y)\n",
    "        self.class_prob = [np.log(len(i) / counts) for i in separate]\n",
    "        ## 计算每个类别中， 各个特征的平均值\n",
    "        self.mean = [np.mean(i, axis=0) for i in separate]\n",
    "        ## 计算每个类别中， 各个特征的标准差\n",
    "        self.var = [np.var(i, axis=0) + self.epsilon for i in separate]\n",
    "        \n",
    "        self.mean = np.array(self.mean)\n",
    "        self.var = np.array(self.var)\n",
    "        self.class_prob = np.array(self.class_prob)\n",
    "        return self\n",
    "    \n",
    "    ## 计算公式8 的后一部分\n",
    "    def prob_model(self, x,  mean, var):\n",
    "        exp = -0.5 * np.sum(np.log(2. * np.pi * var))\n",
    "        exp -= 0.5 * np.sum((x - mean)**2 / var)\n",
    "        return exp\n",
    "    \n",
    "    ## 为每个测试数据， 对于所有的类别计算公式八\n",
    "    def predict_prob(self, X):\n",
    "        pre = []\n",
    "        for x in X:\n",
    "            temp = []\n",
    "            for j in range(len(self.mean)):\n",
    "                temp.append(self.class_prob[j] + self.prob_model(x, self.mean[j], self.var[j]))\n",
    "            pre.append(temp)\n",
    "        return np.array(pre)\n",
    "    \n",
    "    ## \n",
    "    def predict(self, X):\n",
    "        return np.argmax(self.predict_prob(X), axis=1)\n",
    "\n",
    "    def score(self, X, Y):\n",
    "        return np.sum(self.predict(X).reshape([-1, 1]) == Y) / len(Y)"
   ]
  },
  {
   "cell_type": "markdown",
   "metadata": {},
   "source": [
    "## 5.加载数据"
   ]
  },
  {
   "cell_type": "code",
   "execution_count": 24,
   "metadata": {},
   "outputs": [
    {
     "name": "stdout",
     "output_type": "stream",
     "text": [
      "(569, 30)\n",
      "(569, 1)\n"
     ]
    }
   ],
   "source": [
    "from sklearn.datasets import load_breast_cancer\n",
    "from sklearn.preprocessing import StandardScaler\n",
    "from sklearn.preprocessing import OneHotEncoder\n",
    "\n",
    "scaler = StandardScaler()\n",
    "X1 = scaler.fit_transform(load_breast_cancer()['data'])\n",
    "Y1 = load_breast_cancer()['target'].reshape([-1, 1])\n",
    "print(X1.shape)\n",
    "print(Y1.shape)"
   ]
  },
  {
   "cell_type": "markdown",
   "metadata": {},
   "source": [
    "## 6.测试数据"
   ]
  },
  {
   "cell_type": "code",
   "execution_count": 26,
   "metadata": {},
   "outputs": [
    {
     "name": "stdout",
     "output_type": "stream",
     "text": [
      "自己写的：\n",
      "0.894736842105\n",
      "官方提供：\n",
      "0.894736842105\n"
     ]
    },
    {
     "name": "stderr",
     "output_type": "stream",
     "text": [
      "/opt/anaconda3/lib/python3.6/site-packages/sklearn/utils/validation.py:547: DataConversionWarning: A column-vector y was passed when a 1d array was expected. Please change the shape of y to (n_samples, ), for example using ravel().\n",
      "  y = column_or_1d(y, warn=True)\n"
     ]
    }
   ],
   "source": [
    "X_train, X_test, y_train, y_test = train_test_split(X1, Y1, test_size=0.1, random_state=0)\n",
    "\n",
    "print(\"自己写的：\")\n",
    "nb = SGussianNB().fit(X_train, y_train)\n",
    "print(nb.score(X_test, y_test))\n",
    "\n",
    "print(\"官方提供：\")\n",
    "nb = GaussianNB().fit(X_train, y_train)\n",
    "print(nb.score(X_test, y_test))"
   ]
  },
  {
   "cell_type": "code",
   "execution_count": null,
   "metadata": {
    "collapsed": true
   },
   "outputs": [],
   "source": []
  }
 ],
 "metadata": {
  "kernelspec": {
   "display_name": "Python 3",
   "language": "python",
   "name": "python3"
  },
  "language_info": {
   "codemirror_mode": {
    "name": "ipython",
    "version": 3
   },
   "file_extension": ".py",
   "mimetype": "text/x-python",
   "name": "python",
   "nbconvert_exporter": "python",
   "pygments_lexer": "ipython3",
   "version": "3.6.2"
  }
 },
 "nbformat": 4,
 "nbformat_minor": 2
}
