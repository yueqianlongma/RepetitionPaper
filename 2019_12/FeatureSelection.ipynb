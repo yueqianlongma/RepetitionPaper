{
 "cells": [
  {
   "cell_type": "markdown",
   "metadata": {},
   "source": [
    "## FeatureSelection\n",
    "**time  : 2019/12/24**  \n",
    "**author: mjl**  \n",
    "**paper : A Feature Selection Layer Integrated Within A Deep Learning Framework**  \n",
    "\n",
    "这是该论文中提到的一种特征选择的计算方法， 和CancelOut原理相同。\n",
    "我们知道正则化会惩罚参数， 而$L_{1}$正则化很容易产生系数矩阵， 使得参数为0或接近于0\n",
    "。对于FeatureSelection， 其正是通过使用$L_{1}$正则化来惩罚各个特征对应的参数， 从而去选择特征。  \n",
    "![fs.png](./img/fs.png)"
   ]
  },
  {
   "cell_type": "markdown",
   "metadata": {},
   "source": [
    "## import"
   ]
  },
  {
   "cell_type": "code",
   "execution_count": 6,
   "metadata": {
    "collapsed": true
   },
   "outputs": [],
   "source": [
    "import tensorflow as tf\n",
    "import numpy as np\n",
    "import matplotlib.pyplot as plt\n",
    "\n",
    "import os\n",
    "\n",
    "os.environ['CUDA_VISIBLE_DEVICES'] = '2'\n",
    "config = tf.ConfigProto()\n",
    "\n",
    "config.gpu_options.allow_growth = True\n",
    "\n",
    "session = tf.Session(config=config)"
   ]
  },
  {
   "cell_type": "markdown",
   "metadata": {},
   "source": [
    "## FS"
   ]
  },
  {
   "cell_type": "code",
   "execution_count": 19,
   "metadata": {
    "collapsed": true
   },
   "outputs": [],
   "source": [
    "class FSLayer(object):\n",
    "    def __init__(self, input, dims, **kwargs):\n",
    "        self.input = input\n",
    "        self.weights = tf.Variable(tf.truncated_normal([1, dims], stddev=0.1))\n",
    "        \n",
    "    def feature_selection(self):\n",
    "        return self.input * self.weights\n",
    "    \n",
    "    def layer_weights(self):\n",
    "        return self.weights"
   ]
  },
  {
   "cell_type": "markdown",
   "metadata": {},
   "source": [
    "## 加载数据"
   ]
  },
  {
   "cell_type": "code",
   "execution_count": 20,
   "metadata": {},
   "outputs": [
    {
     "name": "stdout",
     "output_type": "stream",
     "text": [
      "(569, 30)\n",
      "(569, 1)\n"
     ]
    }
   ],
   "source": [
    "from sklearn.datasets import load_breast_cancer\n",
    "from sklearn.preprocessing import StandardScaler\n",
    "from sklearn.preprocessing import OneHotEncoder\n",
    "\n",
    "scaler = StandardScaler()\n",
    "X1 = scaler.fit_transform(load_breast_cancer()['data'])\n",
    "Y1 = load_breast_cancer()['target'].reshape([-1, 1])\n",
    "print(X1.shape)\n",
    "print(Y1.shape)"
   ]
  },
  {
   "cell_type": "markdown",
   "metadata": {},
   "source": [
    "## 建立网络"
   ]
  },
  {
   "cell_type": "code",
   "execution_count": 23,
   "metadata": {
    "collapsed": true
   },
   "outputs": [],
   "source": [
    "def build_fs_Net(x, y, batch_size=100, num_epochs = 100):\n",
    "    xs = tf.placeholder(tf.float32, [None, x.shape[1]])\n",
    "    ys = tf.placeholder(tf.float32, [None, y.shape[1]])\n",
    "    \n",
    "    fs = FSLayer(xs, x.shape[1])\n",
    "    temp = fs.feature_selection()\n",
    "    temp = tf.layers.dense(temp, x.shape[1] + 10, activation=tf.nn.relu)\n",
    "    temp = tf.layers.dense(temp, 2)\n",
    "    \n",
    "    ## L1正则化\n",
    "    l1_norm = tf.contrib.layers.l1_regularizer(0.1/x.shape[1])(fs.layer_weights())\n",
    "    ## 交叉损失\n",
    "    cross_entropy = tf.nn.sparse_softmax_cross_entropy_with_logits(labels=tf.argmax(ys, axis=1), logits=temp)\n",
    "    ## 总损失\n",
    "    loss = tf.reduce_mean(cross_entropy) + l1_norm\n",
    "    \n",
    "    train_op = tf.train.AdamOptimizer(learning_rate=0.005).minimize(loss)\n",
    "    \n",
    "    with tf.Session() as sess:\n",
    "        sess.run(tf.global_variables_initializer())\n",
    "        \n",
    "        list_loss = []\n",
    "        for i in range(num_epochs):\n",
    "            nums = int(x.shape[0] / batch_size)\n",
    "            for j in range(nums):\n",
    "                tempx = x[j*batch_size : (j+1)*batch_size]\n",
    "                tempy = y[j*batch_size : (j+1)*batch_size]\n",
    "                \n",
    "                sess.run(train_op, feed_dict={xs:tempx , ys:tempy })\n",
    "                if j == nums-1:\n",
    "                    list_loss.append(sess.run(loss, feed_dict={xs:tempx , ys:tempy }))\n",
    "        w = sess.run(fs.layer_weights())\n",
    "        plt.plot(list_loss)\n",
    "        plt.show()\n",
    "        return w\n",
    "    "
   ]
  },
  {
   "cell_type": "code",
   "execution_count": 24,
   "metadata": {},
   "outputs": [
    {
     "data": {
      "image/png": "[encoded data removed]",
      "text/plain": [
       "<matplotlib.figure.Figure at 0x7f1af830b5f8>"
      ]
     },
     "metadata": {},
     "output_type": "display_data"
    }
   ],
   "source": [
    "tf.reset_default_graph()\n",
    "layer_weights = build_fs_Net(X1, Y1)"
   ]
  },
  {
   "cell_type": "code",
   "execution_count": 26,
   "metadata": {},
   "outputs": [
    {
     "name": "stdout",
     "output_type": "stream",
     "text": [
      "[ 3 11 12 26 21  9  2  7  6 25 22 15 27 10  5 17 16  1  0 19 18 20 29 14 13\n",
      " 23  4 24 28  8]\n"
     ]
    }
   ],
   "source": [
    "# print(np.argsort(layer_weights, axis=1))\n",
    "print(np.argsort(layer_weights, axis=1)[0])"
   ]
  },
  {
   "cell_type": "code",
   "execution_count": null,
   "metadata": {
    "collapsed": true
   },
   "outputs": [],
   "source": []
  }
 ],
 "metadata": {
  "kernelspec": {
   "display_name": "Python 3",
   "language": "python",
   "name": "python3"
  },
  "language_info": {
   "codemirror_mode": {
    "name": "ipython",
    "version": 3
   },
   "file_extension": ".py",
   "mimetype": "text/x-python",
   "name": "python",
   "nbconvert_exporter": "python",
   "pygments_lexer": "ipython3",
   "version": "3.6.2"
  }
 },
 "nbformat": 4,
 "nbformat_minor": 2
}
